{
  "nbformat": 4,
  "nbformat_minor": 0,
  "metadata": {
    "colab": {
      "provenance": [],
      "machine_shape": "hm",
      "authorship_tag": "ABX9TyMhDcgzkb2F3y6ZpbTG8Dgz",
      "include_colab_link": true
    },
    "kernelspec": {
      "name": "python3",
      "display_name": "Python 3"
    },
    "language_info": {
      "name": "python"
    },
    "accelerator": "GPU",
    "gpuClass": "premium"
  },
  "cells": [
    {
      "cell_type": "markdown",
      "metadata": {
        "id": "view-in-github",
        "colab_type": "text"
      },
      "source": [
        "<a href=\"https://colab.research.google.com/github/FreddyMS/COP4777-Data-Mining-Course-Fall-2022/blob/main/FinalCopyofAmazonReviewProjectCNN.ipynb\" target=\"_parent\"><img src=\"https://colab.research.google.com/assets/colab-badge.svg\" alt=\"Open In Colab\"/></a>"
      ]
    },
    {
      "cell_type": "code",
      "execution_count": null,
      "metadata": {
        "id": "tfb_D0lvru8_",
        "colab": {
          "base_uri": "https://localhost:8080/"
        },
        "outputId": "a5de0a22-4bab-4448-fba3-098292c7f34d"
      },
      "outputs": [
        {
          "output_type": "stream",
          "name": "stdout",
          "text": [
            "--2022-12-10 03:09:33--  http://34.82.108.37/amazonReviewsTrain.csv.zip\n",
            "Connecting to 34.82.108.37:80... connected.\n",
            "HTTP request sent, awaiting response... 200 OK\n",
            "Length: 39456705 (38M) [application/zip]\n",
            "Saving to: ‘amazonReviewsTrain.csv.zip’\n",
            "\n",
            "amazonReviewsTrain. 100%[===================>]  37.63M  16.1MB/s    in 2.3s    \n",
            "\n",
            "2022-12-10 03:09:35 (16.1 MB/s) - ‘amazonReviewsTrain.csv.zip’ saved [39456705/39456705]\n",
            "\n",
            "--2022-12-10 03:09:35--  https://github.com/zacharski/ml-class/raw/master/data/fasttext.zip\n",
            "Resolving github.com (github.com)... 20.27.177.113\n",
            "Connecting to github.com (github.com)|20.27.177.113|:443... connected.\n",
            "HTTP request sent, awaiting response... 302 Found\n",
            "Location: https://raw.githubusercontent.com/zacharski/ml-class/master/data/fasttext.zip [following]\n",
            "--2022-12-10 03:09:36--  https://raw.githubusercontent.com/zacharski/ml-class/master/data/fasttext.zip\n",
            "Resolving raw.githubusercontent.com (raw.githubusercontent.com)... 185.199.108.133, 185.199.109.133, 185.199.110.133, ...\n",
            "Connecting to raw.githubusercontent.com (raw.githubusercontent.com)|185.199.108.133|:443... connected.\n",
            "HTTP request sent, awaiting response... 200 OK\n",
            "Length: 13307328 (13M) [application/zip]\n",
            "Saving to: ‘fasttext.zip’\n",
            "\n",
            "fasttext.zip        100%[===================>]  12.69M  --.-KB/s    in 0.1s    \n",
            "\n",
            "2022-12-10 03:09:37 (105 MB/s) - ‘fasttext.zip’ saved [13307328/13307328]\n",
            "\n",
            "amazonReviewsTrain.csv.zip  fasttext.zip  sample_data\n",
            "Archive:  fasttext.zip\n",
            "  inflating: fasttext.vec            \n"
          ]
        },
        {
          "output_type": "stream",
          "name": "stderr",
          "text": [
            "/usr/local/lib/python3.8/dist-packages/IPython/core/interactiveshell.py:3326: DtypeWarning: Columns (8) have mixed types.Specify dtype option on import or set low_memory=False.\n",
            "  exec(code_obj, self.user_global_ns, self.user_ns)\n"
          ]
        }
      ],
      "source": [
        "#Work worked with Yelise on buiding the program from scratch and debugging\n",
        "#Unfornuately we ran out of time to fit the file format which prob was the easiest\n",
        "#part of the project D:\n",
        "import numpy as np\n",
        "import pandas as pd\n",
        "#Work this\n",
        "#opening my files, setting train, test variables\n",
        "!wget http://34.82.108.37/amazonReviewsTrain.csv.zip\n",
        "!wget https://github.com/zacharski/ml-class/raw/master/data/fasttext.zip\n",
        "!ls\n",
        "!unzip fasttext.zip \n",
        "\n",
        "\n",
        "Amazon_train_reviews=pd.read_csv(\"amazonReviewsTrain.csv.zip\")\n",
        "Amazon_test_reviews= pd.read_csv(\"http://34.82.108.37/amazonReviewsTest.csv\")\n",
        "Amazon_test_reviews #11 columns NOT include rating  (positive, neutral,negative)\n",
        "Amazon_train_reviews# 12 columns including rating (positive, neutral,negative)\n",
        "Amazon_train_reviews=Amazon_train_reviews.drop([\"style\", \"image\",\"reviewerID\",\"unixReviewTime\",\"asin\", \"vote\", \"verified\",\t\"reviewTime\", \"reviewerName\"\t], axis=1)\n",
        "Amazon_test_reviews=Amazon_test_reviews.drop([\"style\",\"reviewerName\", \"image\",\"reviewerID\",\"unixReviewTime\",\"asin\", \"vote\", \"verified\",\t\"reviewTime\"], axis=1)"
      ]
    },
    {
      "cell_type": "code",
      "source": [
        "#Amazon_train_reviews.drop([\"style\",\"reviewerName\"],axis=1)\n",
        "Amazon_train_reviews#221391 rows\n",
        "Amazon_train_reviews.reviewText[1] #10k rows\n",
        "Amazon_test_reviews"
      ],
      "metadata": {
        "colab": {
          "base_uri": "https://localhost:8080/",
          "height": 424
        },
        "id": "McyzjE9D0V3s",
        "outputId": "57766520-b599-4aed-f325-905d61dfe617"
      },
      "execution_count": null,
      "outputs": [
        {
          "output_type": "execute_result",
          "data": {
            "text/plain": [
              "                                             reviewText  \\\n",
              "0     I am a (very amateur) EDM and Hip Hop Producer...   \n",
              "1     These are pretty beefy strings even for black ...   \n",
              "2     I've played every new \"improved\" string out th...   \n",
              "3     I thought I would give this pedal a try, becau...   \n",
              "4     Been wanting to try one for over a year.  Good...   \n",
              "...                                                 ...   \n",
              "9995  I took it off my guitar! I would rather look a...   \n",
              "9996  Better than the stock part on non-USA made gui...   \n",
              "9997  I'm updating this review after using the violi...   \n",
              "9998  A lot of sound research and engineering go int...   \n",
              "9999  This is my second stand like this. Looks reall...   \n",
              "\n",
              "                                                summary  \n",
              "0                                      Extremely Happy.  \n",
              "1     once again, Rotosound strings fail to impress ...  \n",
              "2     and keep coming home to the girls that really ...  \n",
              "3                            save up for a better pedal  \n",
              "4                                               Big Six  \n",
              "...                                                 ...  \n",
              "9995                                  Save your money!!  \n",
              "9996                                         Four Stars  \n",
              "9997                              First Violin Purchase  \n",
              "9998                      Another winner from Hardwire!  \n",
              "9999                                         Five Stars  \n",
              "\n",
              "[10000 rows x 2 columns]"
            ],
            "text/html": [
              "\n",
              "  <div id=\"df-40dc85cd-8f21-45f5-81b5-0f2826e4bad9\">\n",
              "    <div class=\"colab-df-container\">\n",
              "      <div>\n",
              "<style scoped>\n",
              "    .dataframe tbody tr th:only-of-type {\n",
              "        vertical-align: middle;\n",
              "    }\n",
              "\n",
              "    .dataframe tbody tr th {\n",
              "        vertical-align: top;\n",
              "    }\n",
              "\n",
              "    .dataframe thead th {\n",
              "        text-align: right;\n",
              "    }\n",
              "</style>\n",
              "<table border=\"1\" class=\"dataframe\">\n",
              "  <thead>\n",
              "    <tr style=\"text-align: right;\">\n",
              "      <th></th>\n",
              "      <th>reviewText</th>\n",
              "      <th>summary</th>\n",
              "    </tr>\n",
              "  </thead>\n",
              "  <tbody>\n",
              "    <tr>\n",
              "      <th>0</th>\n",
              "      <td>I am a (very amateur) EDM and Hip Hop Producer...</td>\n",
              "      <td>Extremely Happy.</td>\n",
              "    </tr>\n",
              "    <tr>\n",
              "      <th>1</th>\n",
              "      <td>These are pretty beefy strings even for black ...</td>\n",
              "      <td>once again, Rotosound strings fail to impress ...</td>\n",
              "    </tr>\n",
              "    <tr>\n",
              "      <th>2</th>\n",
              "      <td>I've played every new \"improved\" string out th...</td>\n",
              "      <td>and keep coming home to the girls that really ...</td>\n",
              "    </tr>\n",
              "    <tr>\n",
              "      <th>3</th>\n",
              "      <td>I thought I would give this pedal a try, becau...</td>\n",
              "      <td>save up for a better pedal</td>\n",
              "    </tr>\n",
              "    <tr>\n",
              "      <th>4</th>\n",
              "      <td>Been wanting to try one for over a year.  Good...</td>\n",
              "      <td>Big Six</td>\n",
              "    </tr>\n",
              "    <tr>\n",
              "      <th>...</th>\n",
              "      <td>...</td>\n",
              "      <td>...</td>\n",
              "    </tr>\n",
              "    <tr>\n",
              "      <th>9995</th>\n",
              "      <td>I took it off my guitar! I would rather look a...</td>\n",
              "      <td>Save your money!!</td>\n",
              "    </tr>\n",
              "    <tr>\n",
              "      <th>9996</th>\n",
              "      <td>Better than the stock part on non-USA made gui...</td>\n",
              "      <td>Four Stars</td>\n",
              "    </tr>\n",
              "    <tr>\n",
              "      <th>9997</th>\n",
              "      <td>I'm updating this review after using the violi...</td>\n",
              "      <td>First Violin Purchase</td>\n",
              "    </tr>\n",
              "    <tr>\n",
              "      <th>9998</th>\n",
              "      <td>A lot of sound research and engineering go int...</td>\n",
              "      <td>Another winner from Hardwire!</td>\n",
              "    </tr>\n",
              "    <tr>\n",
              "      <th>9999</th>\n",
              "      <td>This is my second stand like this. Looks reall...</td>\n",
              "      <td>Five Stars</td>\n",
              "    </tr>\n",
              "  </tbody>\n",
              "</table>\n",
              "<p>10000 rows × 2 columns</p>\n",
              "</div>\n",
              "      <button class=\"colab-df-convert\" onclick=\"convertToInteractive('df-40dc85cd-8f21-45f5-81b5-0f2826e4bad9')\"\n",
              "              title=\"Convert this dataframe to an interactive table.\"\n",
              "              style=\"display:none;\">\n",
              "        \n",
              "  <svg xmlns=\"http://www.w3.org/2000/svg\" height=\"24px\"viewBox=\"0 0 24 24\"\n",
              "       width=\"24px\">\n",
              "    <path d=\"M0 0h24v24H0V0z\" fill=\"none\"/>\n",
              "    <path d=\"M18.56 5.44l.94 2.06.94-2.06 2.06-.94-2.06-.94-.94-2.06-.94 2.06-2.06.94zm-11 1L8.5 8.5l.94-2.06 2.06-.94-2.06-.94L8.5 2.5l-.94 2.06-2.06.94zm10 10l.94 2.06.94-2.06 2.06-.94-2.06-.94-.94-2.06-.94 2.06-2.06.94z\"/><path d=\"M17.41 7.96l-1.37-1.37c-.4-.4-.92-.59-1.43-.59-.52 0-1.04.2-1.43.59L10.3 9.45l-7.72 7.72c-.78.78-.78 2.05 0 2.83L4 21.41c.39.39.9.59 1.41.59.51 0 1.02-.2 1.41-.59l7.78-7.78 2.81-2.81c.8-.78.8-2.07 0-2.86zM5.41 20L4 18.59l7.72-7.72 1.47 1.35L5.41 20z\"/>\n",
              "  </svg>\n",
              "      </button>\n",
              "      \n",
              "  <style>\n",
              "    .colab-df-container {\n",
              "      display:flex;\n",
              "      flex-wrap:wrap;\n",
              "      gap: 12px;\n",
              "    }\n",
              "\n",
              "    .colab-df-convert {\n",
              "      background-color: #E8F0FE;\n",
              "      border: none;\n",
              "      border-radius: 50%;\n",
              "      cursor: pointer;\n",
              "      display: none;\n",
              "      fill: #1967D2;\n",
              "      height: 32px;\n",
              "      padding: 0 0 0 0;\n",
              "      width: 32px;\n",
              "    }\n",
              "\n",
              "    .colab-df-convert:hover {\n",
              "      background-color: #E2EBFA;\n",
              "      box-shadow: 0px 1px 2px rgba(60, 64, 67, 0.3), 0px 1px 3px 1px rgba(60, 64, 67, 0.15);\n",
              "      fill: #174EA6;\n",
              "    }\n",
              "\n",
              "    [theme=dark] .colab-df-convert {\n",
              "      background-color: #3B4455;\n",
              "      fill: #D2E3FC;\n",
              "    }\n",
              "\n",
              "    [theme=dark] .colab-df-convert:hover {\n",
              "      background-color: #434B5C;\n",
              "      box-shadow: 0px 1px 3px 1px rgba(0, 0, 0, 0.15);\n",
              "      filter: drop-shadow(0px 1px 2px rgba(0, 0, 0, 0.3));\n",
              "      fill: #FFFFFF;\n",
              "    }\n",
              "  </style>\n",
              "\n",
              "      <script>\n",
              "        const buttonEl =\n",
              "          document.querySelector('#df-40dc85cd-8f21-45f5-81b5-0f2826e4bad9 button.colab-df-convert');\n",
              "        buttonEl.style.display =\n",
              "          google.colab.kernel.accessAllowed ? 'block' : 'none';\n",
              "\n",
              "        async function convertToInteractive(key) {\n",
              "          const element = document.querySelector('#df-40dc85cd-8f21-45f5-81b5-0f2826e4bad9');\n",
              "          const dataTable =\n",
              "            await google.colab.kernel.invokeFunction('convertToInteractive',\n",
              "                                                     [key], {});\n",
              "          if (!dataTable) return;\n",
              "\n",
              "          const docLinkHtml = 'Like what you see? Visit the ' +\n",
              "            '<a target=\"_blank\" href=https://colab.research.google.com/notebooks/data_table.ipynb>data table notebook</a>'\n",
              "            + ' to learn more about interactive tables.';\n",
              "          element.innerHTML = '';\n",
              "          dataTable['output_type'] = 'display_data';\n",
              "          await google.colab.output.renderOutput(dataTable, element);\n",
              "          const docLink = document.createElement('div');\n",
              "          docLink.innerHTML = docLinkHtml;\n",
              "          element.appendChild(docLink);\n",
              "        }\n",
              "      </script>\n",
              "    </div>\n",
              "  </div>\n",
              "  "
            ]
          },
          "metadata": {},
          "execution_count": 2
        }
      ]
    },
    {
      "cell_type": "code",
      "source": [
        "from sklearn.preprocessing import OneHotEncoder\n",
        "ohe = OneHotEncoder(handle_unknown='ignore')\n",
        "\n",
        "data_label =Amazon_train_reviews.rating\n",
        "data_label= pd.get_dummies(data_label)\n",
        "Amazon_train_reviews = Amazon_train_reviews.drop(\"rating\", axis=1)\n",
        "#Amazon_train_reviews.rating.unique()\n",
        "\n",
        "data_text =  Amazon_train_reviews['summary'] + ' ' + Amazon_train_reviews['reviewText'] \n",
        "data_label\n",
        "data_text= data_text.map(str)\n",
        "\n"
      ],
      "metadata": {
        "id": "Bm9uFSS-0WN9"
      },
      "execution_count": null,
      "outputs": []
    },
    {
      "cell_type": "code",
      "source": [
        "from keras.preprocessing.text import Tokenizer\n",
        "tokenizer = Tokenizer(num_words = 20000)\n",
        "#build the word index\n",
        "tokenizer.fit_on_texts(data_text)\n",
        "# now convert the words to integers\n",
        "data_sequences = tokenizer.texts_to_sequences(data_text)\n",
        "data_sequences[0]"
      ],
      "metadata": {
        "colab": {
          "base_uri": "https://localhost:8080/"
        },
        "id": "SZUVf3Zh9WxY",
        "outputId": "d92bbf31-5f9e-4100-89dc-d26f62f5182c"
      },
      "execution_count": null,
      "outputs": [
        {
          "output_type": "execute_result",
          "data": {
            "text/plain": [
              "[45, 33, 19, 547, 9, 25, 13, 2206, 18, 560]"
            ]
          },
          "metadata": {},
          "execution_count": 4
        }
      ]
    },
    {
      "cell_type": "code",
      "source": [
        "tokenizer.sequences_to_texts([data_sequences[1000]])"
      ],
      "metadata": {
        "colab": {
          "base_uri": "https://localhost:8080/"
        },
        "id": "XVpH4wuQ-ssu",
        "outputId": "a643eb66-f015-4713-daa9-d7edbb75bc70"
      },
      "execution_count": null,
      "outputs": [
        {
          "output_type": "execute_result",
          "data": {
            "text/plain": [
              "['five stars good']"
            ]
          },
          "metadata": {},
          "execution_count": 280
        }
      ]
    },
    {
      "cell_type": "code",
      "source": [
        "\n",
        "\n",
        "\n",
        "# Cut texts after this number of words \n",
        "# (among top max_features most common words)\n",
        "maxlen = 50\n",
        "\n",
        "\n",
        "from keras.utils import pad_sequences\n",
        "\n",
        "\n",
        "# This turns our lists of integers\n",
        "# into a 2D integer tensor of shape `(samples, maxlen)`\n",
        "data50 = pad_sequences(data_sequences, maxlen=maxlen)\n",
        "data50[0]\n"
      ],
      "metadata": {
        "colab": {
          "base_uri": "https://localhost:8080/"
        },
        "id": "a4BhqGZZ-sPV",
        "outputId": "fa92ff8c-a0a6-4b0d-f14a-d6d48f0e67ac"
      },
      "execution_count": null,
      "outputs": [
        {
          "output_type": "execute_result",
          "data": {
            "text/plain": [
              "array([   0,    0,    0,    0,    0,    0,    0,    0,    0,    0,    0,\n",
              "          0,    0,    0,    0,    0,    0,    0,    0,    0,    0,    0,\n",
              "          0,    0,    0,    0,    0,    0,    0,    0,    0,    0,    0,\n",
              "          0,    0,    0,    0,    0,    0,    0,   45,   33,   19,  547,\n",
              "          9,   25,   13, 2206,   18,  560], dtype=int32)"
            ]
          },
          "metadata": {},
          "execution_count": 5
        }
      ]
    },
    {
      "cell_type": "code",
      "source": [
        "#100 percent of the data was used\n",
        "from sklearn.model_selection import train_test_split\n",
        "train50, test50, train_labels, test_labels = train_test_split(data50, data_label)\n",
        "test_labels"
      ],
      "metadata": {
        "colab": {
          "base_uri": "https://localhost:8080/",
          "height": 424
        },
        "id": "Wywlp5uqCQMP",
        "outputId": "42252a37-b91f-4e72-aefc-1211002d6d48"
      },
      "execution_count": null,
      "outputs": [
        {
          "output_type": "execute_result",
          "data": {
            "text/plain": [
              "        negative  neutral  positive\n",
              "84644          0        0         1\n",
              "195644         1        0         0\n",
              "148298         0        0         1\n",
              "206395         0        0         1\n",
              "210560         0        0         1\n",
              "...          ...      ...       ...\n",
              "213290         0        0         1\n",
              "126181         0        0         1\n",
              "80171          0        0         1\n",
              "29204          0        0         1\n",
              "28961          0        0         1\n",
              "\n",
              "[55348 rows x 3 columns]"
            ],
            "text/html": [
              "\n",
              "  <div id=\"df-2047c54b-8cb8-48b7-967f-bad7e4a5ca9e\">\n",
              "    <div class=\"colab-df-container\">\n",
              "      <div>\n",
              "<style scoped>\n",
              "    .dataframe tbody tr th:only-of-type {\n",
              "        vertical-align: middle;\n",
              "    }\n",
              "\n",
              "    .dataframe tbody tr th {\n",
              "        vertical-align: top;\n",
              "    }\n",
              "\n",
              "    .dataframe thead th {\n",
              "        text-align: right;\n",
              "    }\n",
              "</style>\n",
              "<table border=\"1\" class=\"dataframe\">\n",
              "  <thead>\n",
              "    <tr style=\"text-align: right;\">\n",
              "      <th></th>\n",
              "      <th>negative</th>\n",
              "      <th>neutral</th>\n",
              "      <th>positive</th>\n",
              "    </tr>\n",
              "  </thead>\n",
              "  <tbody>\n",
              "    <tr>\n",
              "      <th>84644</th>\n",
              "      <td>0</td>\n",
              "      <td>0</td>\n",
              "      <td>1</td>\n",
              "    </tr>\n",
              "    <tr>\n",
              "      <th>195644</th>\n",
              "      <td>1</td>\n",
              "      <td>0</td>\n",
              "      <td>0</td>\n",
              "    </tr>\n",
              "    <tr>\n",
              "      <th>148298</th>\n",
              "      <td>0</td>\n",
              "      <td>0</td>\n",
              "      <td>1</td>\n",
              "    </tr>\n",
              "    <tr>\n",
              "      <th>206395</th>\n",
              "      <td>0</td>\n",
              "      <td>0</td>\n",
              "      <td>1</td>\n",
              "    </tr>\n",
              "    <tr>\n",
              "      <th>210560</th>\n",
              "      <td>0</td>\n",
              "      <td>0</td>\n",
              "      <td>1</td>\n",
              "    </tr>\n",
              "    <tr>\n",
              "      <th>...</th>\n",
              "      <td>...</td>\n",
              "      <td>...</td>\n",
              "      <td>...</td>\n",
              "    </tr>\n",
              "    <tr>\n",
              "      <th>213290</th>\n",
              "      <td>0</td>\n",
              "      <td>0</td>\n",
              "      <td>1</td>\n",
              "    </tr>\n",
              "    <tr>\n",
              "      <th>126181</th>\n",
              "      <td>0</td>\n",
              "      <td>0</td>\n",
              "      <td>1</td>\n",
              "    </tr>\n",
              "    <tr>\n",
              "      <th>80171</th>\n",
              "      <td>0</td>\n",
              "      <td>0</td>\n",
              "      <td>1</td>\n",
              "    </tr>\n",
              "    <tr>\n",
              "      <th>29204</th>\n",
              "      <td>0</td>\n",
              "      <td>0</td>\n",
              "      <td>1</td>\n",
              "    </tr>\n",
              "    <tr>\n",
              "      <th>28961</th>\n",
              "      <td>0</td>\n",
              "      <td>0</td>\n",
              "      <td>1</td>\n",
              "    </tr>\n",
              "  </tbody>\n",
              "</table>\n",
              "<p>55348 rows × 3 columns</p>\n",
              "</div>\n",
              "      <button class=\"colab-df-convert\" onclick=\"convertToInteractive('df-2047c54b-8cb8-48b7-967f-bad7e4a5ca9e')\"\n",
              "              title=\"Convert this dataframe to an interactive table.\"\n",
              "              style=\"display:none;\">\n",
              "        \n",
              "  <svg xmlns=\"http://www.w3.org/2000/svg\" height=\"24px\"viewBox=\"0 0 24 24\"\n",
              "       width=\"24px\">\n",
              "    <path d=\"M0 0h24v24H0V0z\" fill=\"none\"/>\n",
              "    <path d=\"M18.56 5.44l.94 2.06.94-2.06 2.06-.94-2.06-.94-.94-2.06-.94 2.06-2.06.94zm-11 1L8.5 8.5l.94-2.06 2.06-.94-2.06-.94L8.5 2.5l-.94 2.06-2.06.94zm10 10l.94 2.06.94-2.06 2.06-.94-2.06-.94-.94-2.06-.94 2.06-2.06.94z\"/><path d=\"M17.41 7.96l-1.37-1.37c-.4-.4-.92-.59-1.43-.59-.52 0-1.04.2-1.43.59L10.3 9.45l-7.72 7.72c-.78.78-.78 2.05 0 2.83L4 21.41c.39.39.9.59 1.41.59.51 0 1.02-.2 1.41-.59l7.78-7.78 2.81-2.81c.8-.78.8-2.07 0-2.86zM5.41 20L4 18.59l7.72-7.72 1.47 1.35L5.41 20z\"/>\n",
              "  </svg>\n",
              "      </button>\n",
              "      \n",
              "  <style>\n",
              "    .colab-df-container {\n",
              "      display:flex;\n",
              "      flex-wrap:wrap;\n",
              "      gap: 12px;\n",
              "    }\n",
              "\n",
              "    .colab-df-convert {\n",
              "      background-color: #E8F0FE;\n",
              "      border: none;\n",
              "      border-radius: 50%;\n",
              "      cursor: pointer;\n",
              "      display: none;\n",
              "      fill: #1967D2;\n",
              "      height: 32px;\n",
              "      padding: 0 0 0 0;\n",
              "      width: 32px;\n",
              "    }\n",
              "\n",
              "    .colab-df-convert:hover {\n",
              "      background-color: #E2EBFA;\n",
              "      box-shadow: 0px 1px 2px rgba(60, 64, 67, 0.3), 0px 1px 3px 1px rgba(60, 64, 67, 0.15);\n",
              "      fill: #174EA6;\n",
              "    }\n",
              "\n",
              "    [theme=dark] .colab-df-convert {\n",
              "      background-color: #3B4455;\n",
              "      fill: #D2E3FC;\n",
              "    }\n",
              "\n",
              "    [theme=dark] .colab-df-convert:hover {\n",
              "      background-color: #434B5C;\n",
              "      box-shadow: 0px 1px 3px 1px rgba(0, 0, 0, 0.15);\n",
              "      filter: drop-shadow(0px 1px 2px rgba(0, 0, 0, 0.3));\n",
              "      fill: #FFFFFF;\n",
              "    }\n",
              "  </style>\n",
              "\n",
              "      <script>\n",
              "        const buttonEl =\n",
              "          document.querySelector('#df-2047c54b-8cb8-48b7-967f-bad7e4a5ca9e button.colab-df-convert');\n",
              "        buttonEl.style.display =\n",
              "          google.colab.kernel.accessAllowed ? 'block' : 'none';\n",
              "\n",
              "        async function convertToInteractive(key) {\n",
              "          const element = document.querySelector('#df-2047c54b-8cb8-48b7-967f-bad7e4a5ca9e');\n",
              "          const dataTable =\n",
              "            await google.colab.kernel.invokeFunction('convertToInteractive',\n",
              "                                                     [key], {});\n",
              "          if (!dataTable) return;\n",
              "\n",
              "          const docLinkHtml = 'Like what you see? Visit the ' +\n",
              "            '<a target=\"_blank\" href=https://colab.research.google.com/notebooks/data_table.ipynb>data table notebook</a>'\n",
              "            + ' to learn more about interactive tables.';\n",
              "          element.innerHTML = '';\n",
              "          dataTable['output_type'] = 'display_data';\n",
              "          await google.colab.output.renderOutput(dataTable, element);\n",
              "          const docLink = document.createElement('div');\n",
              "          docLink.innerHTML = docLinkHtml;\n",
              "          element.appendChild(docLink);\n",
              "        }\n",
              "      </script>\n",
              "    </div>\n",
              "  </div>\n",
              "  "
            ]
          },
          "metadata": {},
          "execution_count": 6
        }
      ]
    },
    {
      "cell_type": "code",
      "source": [
        "#open the glove file and specifing which file\n",
        "import numpy as np\n",
        "import pandas as pd\n",
        "!curl http://zacharski.org/files/courses/cs419/glove.6B.100d.zip > glove.6B.100d.zip\n",
        "!ls"
      ],
      "metadata": {
        "id": "RvUoWHTnCQaN",
        "colab": {
          "base_uri": "https://localhost:8080/"
        },
        "outputId": "84c1b9f1-8c93-4946-8bd0-06b51f847fe4"
      },
      "execution_count": null,
      "outputs": [
        {
          "output_type": "stream",
          "name": "stdout",
          "text": [
            "  % Total    % Received % Xferd  Average Speed   Time    Time     Time  Current\n",
            "                                 Dload  Upload   Total   Spent    Left  Speed\n",
            "100  128M  100  128M    0     0  13.0M      0  0:00:09  0:00:09 --:--:-- 16.1M\n",
            "amazonReviewsTrain.csv.zip  fasttext.zip       sample_data\n",
            "fasttext.vec\t\t    glove.6B.100d.zip\n"
          ]
        }
      ]
    },
    {
      "cell_type": "code",
      "source": [
        "!unzip glove.6B.100d.zip"
      ],
      "metadata": {
        "colab": {
          "base_uri": "https://localhost:8080/"
        },
        "id": "ITAZXqs0OW6f",
        "outputId": "f3d94d1d-71a3-44fa-b2d0-8c8a810f6d69"
      },
      "execution_count": null,
      "outputs": [
        {
          "output_type": "stream",
          "name": "stdout",
          "text": [
            "Archive:  glove.6B.100d.zip\n",
            "  inflating: glove.6B.100d.txt       \n"
          ]
        }
      ]
    },
    {
      "cell_type": "code",
      "source": [
        "from keras.layers import Embedding\n",
        "\n",
        "# The Embedding layer takes at least two arguments:\n",
        "# the number of possible tokens, here 1000 (1 + maximum word index),\n",
        "# and the dimensionality of the embeddings, here 64.\n",
        "embedding_layer = Embedding(1000, 64)"
      ],
      "metadata": {
        "id": "YRNktigiPZck"
      },
      "execution_count": null,
      "outputs": []
    },
    {
      "cell_type": "code",
      "source": [
        "#  Open glove file, setting, coefficients, matrix index, finding the length of the embedded index\n",
        "embeddings_index = {}\n",
        "f = open('glove.6B.100d.txt')\n",
        "for line in f:\n",
        "    values = line.split()\n",
        "    word = values[0]\n",
        "    coefs = np.asarray(values[1:], dtype='float32')\n",
        "    embeddings_index[word] = coefs\n",
        "f.close()\n",
        "\n",
        "print('Found %s word vectors.' % len(embeddings_index))\n",
        "\n",
        "embedding_dim = 100\n",
        "max_words = 20000\n",
        "word_index = tokenizer.word_index\n",
        "\n",
        "embedding_matrix = np.zeros((max_words, embedding_dim))\n",
        "for word, i in word_index.items():\n",
        "    embedding_vector = embeddings_index.get(word)\n",
        "    if i < max_words:\n",
        "        if embedding_vector is not None:\n",
        "            # Words not found in embedding index will be all-zeros.\n",
        "            embedding_matrix[i] = embedding_vector\n",
        "\n"
      ],
      "metadata": {
        "colab": {
          "base_uri": "https://localhost:8080/"
        },
        "id": "7AiM4-YXOGEC",
        "outputId": "32f6659e-df7d-4f2e-871b-fab9d36426d2"
      },
      "execution_count": null,
      "outputs": [
        {
          "output_type": "stream",
          "name": "stdout",
          "text": [
            "Found 400000 word vectors.\n"
          ]
        }
      ]
    },
    {
      "cell_type": "code",
      "source": [
        "from keras.models import Sequential\n",
        "from keras.layers import Embedding, Flatten, Dense\n",
        "from keras.models import Sequential\n",
        "from keras.layers import Flatten, Dense, Embedding\n",
        "from keras import layers\n",
        "#Setting a more complex network inhopes to get better results\n",
        "#Setting input, output,flattening, densing, layering it with embedded matrix\n",
        "cnn_model = Sequential()\n",
        "cnn_model.add(Embedding(max_words, embedding_dim, input_length=maxlen))\n",
        "cnn_model.add(layers.Conv1D(filters=64, kernel_size=3, activation='relu'))\n",
        "cnn_model.add(layers.Conv1D(filters=64, kernel_size=3, activation='relu'))\n",
        "cnn_model.add(layers.Dropout(0.5))\n",
        "cnn_model.add(layers.MaxPooling1D(pool_size=2))\n",
        "cnn_model.add(Flatten())\n",
        "cnn_model.add(Dense(32, activation='relu'))\n",
        "cnn_model.add(Dense(3, activation='softmax'))\n",
        "cnn_model.summary()\n",
        "cnn_model.layers[0].set_weights([embedding_matrix])\n",
        "cnn_model.layers[0].trainable = True\n"
      ],
      "metadata": {
        "colab": {
          "base_uri": "https://localhost:8080/"
        },
        "id": "EnXZn0RvOr4d",
        "outputId": "e4c4de6b-ec6f-4029-df16-fc90d9aaf834"
      },
      "execution_count": null,
      "outputs": [
        {
          "output_type": "stream",
          "name": "stdout",
          "text": [
            "Model: \"sequential\"\n",
            "_________________________________________________________________\n",
            " Layer (type)                Output Shape              Param #   \n",
            "=================================================================\n",
            " embedding_1 (Embedding)     (None, 50, 100)           2000000   \n",
            "                                                                 \n",
            " conv1d (Conv1D)             (None, 48, 64)            19264     \n",
            "                                                                 \n",
            " conv1d_1 (Conv1D)           (None, 46, 64)            12352     \n",
            "                                                                 \n",
            " dropout (Dropout)           (None, 46, 64)            0         \n",
            "                                                                 \n",
            " max_pooling1d (MaxPooling1D  (None, 23, 64)           0         \n",
            " )                                                               \n",
            "                                                                 \n",
            " flatten (Flatten)           (None, 1472)              0         \n",
            "                                                                 \n",
            " dense (Dense)               (None, 32)                47136     \n",
            "                                                                 \n",
            " dense_1 (Dense)             (None, 3)                 99        \n",
            "                                                                 \n",
            "=================================================================\n",
            "Total params: 2,078,851\n",
            "Trainable params: 2,078,851\n",
            "Non-trainable params: 0\n",
            "_________________________________________________________________\n"
          ]
        }
      ]
    },
    {
      "cell_type": "code",
      "source": [
        "#Compiling my cnn model, setting loss to categorical crossentrophy since its non_binary\n",
        "cnn_model.compile(optimizer='rmsprop',\n",
        "              loss='categorical_crossentropy',\n",
        "              metrics=['acc'])\n",
        "history = cnn_model.fit(train50, train_labels,\n",
        "                    epochs=10,\n",
        "                    batch_size=32,\n",
        "                     validation_split=0.2,\n",
        "      validation_steps=50)\n"
      ],
      "metadata": {
        "colab": {
          "base_uri": "https://localhost:8080/"
        },
        "id": "1kVpQRUzQ3fa",
        "outputId": "c6283d47-5f54-4fa5-cd08-ca37459753c5"
      },
      "execution_count": null,
      "outputs": [
        {
          "output_type": "stream",
          "name": "stdout",
          "text": [
            "Epoch 1/10\n",
            "4152/4152 [==============================] - 26s 4ms/step - loss: 0.3568 - acc: 0.8787 - val_loss: 0.3290 - val_acc: 0.8881\n",
            "Epoch 2/10\n",
            "4152/4152 [==============================] - 17s 4ms/step - loss: 0.3126 - acc: 0.8940 - val_loss: 0.3259 - val_acc: 0.8944\n",
            "Epoch 3/10\n",
            "4152/4152 [==============================] - 17s 4ms/step - loss: 0.2971 - acc: 0.9010 - val_loss: 0.3088 - val_acc: 0.9075\n",
            "Epoch 4/10\n",
            "4152/4152 [==============================] - 17s 4ms/step - loss: 0.2949 - acc: 0.9029 - val_loss: 0.2743 - val_acc: 0.9050\n",
            "Epoch 5/10\n",
            "4152/4152 [==============================] - 17s 4ms/step - loss: 0.2969 - acc: 0.9038 - val_loss: 0.2945 - val_acc: 0.9081\n",
            "Epoch 6/10\n",
            "4152/4152 [==============================] - 17s 4ms/step - loss: 0.2957 - acc: 0.9051 - val_loss: 0.3487 - val_acc: 0.9025\n",
            "Epoch 7/10\n",
            "4152/4152 [==============================] - 17s 4ms/step - loss: 0.2935 - acc: 0.9064 - val_loss: 0.3207 - val_acc: 0.9013\n",
            "Epoch 8/10\n",
            "4152/4152 [==============================] - 17s 4ms/step - loss: 0.3002 - acc: 0.9077 - val_loss: 0.3124 - val_acc: 0.9050\n",
            "Epoch 9/10\n",
            "4152/4152 [==============================] - 17s 4ms/step - loss: 0.2998 - acc: 0.9079 - val_loss: 0.2778 - val_acc: 0.9056\n",
            "Epoch 10/10\n",
            "4152/4152 [==============================] - 17s 4ms/step - loss: 0.3012 - acc: 0.9084 - val_loss: 0.3163 - val_acc: 0.9013\n"
          ]
        }
      ]
    },
    {
      "cell_type": "code",
      "source": [],
      "metadata": {
        "id": "NU_9KpvSQPDj"
      },
      "execution_count": null,
      "outputs": []
    },
    {
      "cell_type": "code",
      "source": [],
      "metadata": {
        "colab": {
          "base_uri": "https://localhost:8080/",
          "height": 70
        },
        "id": "jSOC1WpdQPX9",
        "outputId": "74a5a2c1-f338-42d6-ad95-880c22efe156"
      },
      "execution_count": null,
      "outputs": [
        {
          "output_type": "stream",
          "name": "stdout",
          "text": [
            "1730/1730 [==============================] - 4s 2ms/step - loss: 0.2897 - acc: 0.9108\n",
            "Accuracy 0.910783    Loss: 0.289665\n"
          ]
        },
        {
          "output_type": "execute_result",
          "data": {
            "text/plain": [
              "'\\ntest_loss, test_acc, = model.evaluate(test50, test_labels)\\nprint(\"Accuracy %f    Loss: %f\" % (test_acc, test_loss))'"
            ],
            "application/vnd.google.colaboratory.intrinsic+json": {
              "type": "string"
            }
          },
          "metadata": {},
          "execution_count": 289
        }
      ]
    },
    {
      "cell_type": "code",
      "source": [
        "#Structuring the Amazon dataset by placing summary and reviewtext into a single string\n",
        "Amazon_test_reviews= pd.read_csv(\"http://34.82.108.37/amazonReviewsTest.csv\")\n",
        "Amazon_test_reviews=Amazon_test_reviews.drop([\"style\",\"reviewerName\", \"image\",\"reviewerID\",\"unixReviewTime\",\"asin\", \"vote\", \"verified\",\"reviewTime\"], axis=1)\n",
        "data_text =  Amazon_test_reviews['summary'] + ' ' + Amazon_test_reviews['reviewText'] \n",
        "data_text= data_text.map(str)\n",
        "data_text"
      ],
      "metadata": {
        "colab": {
          "base_uri": "https://localhost:8080/"
        },
        "id": "OMNQsCQTt_Q6",
        "outputId": "bbfe2fe1-9c50-4bdc-f76d-0c5056b2d4ab"
      },
      "execution_count": null,
      "outputs": [
        {
          "output_type": "execute_result",
          "data": {
            "text/plain": [
              "0       Extremely Happy. I am a (very amateur) EDM and...\n",
              "1       once again, Rotosound strings fail to impress ...\n",
              "2       and keep coming home to the girls that really ...\n",
              "3       save up for a better pedal I thought I would g...\n",
              "4       Big Six Been wanting to try one for over a yea...\n",
              "                              ...                        \n",
              "9995    Save your money!! I took it off my guitar! I w...\n",
              "9996    Four Stars Better than the stock part on non-U...\n",
              "9997    First Violin Purchase I'm updating this review...\n",
              "9998    Another winner from Hardwire! A lot of sound r...\n",
              "9999    Five Stars This is my second stand like this. ...\n",
              "Length: 10000, dtype: object"
            ]
          },
          "metadata": {},
          "execution_count": 13
        }
      ]
    },
    {
      "cell_type": "markdown",
      "source": [],
      "metadata": {
        "id": "5QgPvxR3u7-3"
      }
    },
    {
      "cell_type": "code",
      "source": [
        "\n",
        "\n",
        "from keras.preprocessing.text import Tokenizer\n",
        "tokenizer = Tokenizer(num_words = 20000)\n",
        "#build the word index\n",
        "tokenizer.fit_on_texts(data_text)\n",
        "# now convert the words to integers\n",
        "data_sequences = tokenizer.texts_to_sequences(data_text)\n",
        "data_sequences[0]\n",
        "\n",
        "maxlen = 50\n",
        "\n",
        "\n",
        "from keras.utils import pad_sequences\n",
        "\n",
        "\n",
        "# This turns our lists of integers\n",
        "# into a 2D integer tensor of shape `(samples, maxlen)`\n",
        "data50TestSet = pad_sequences(data_sequences, maxlen=maxlen)\n",
        "data50TestSet[3]\n",
        "#amazonReviewsPredictions = model.predict(data50TestSet)"
      ],
      "metadata": {
        "colab": {
          "base_uri": "https://localhost:8080/"
        },
        "id": "Xb-kmGtbXDGf",
        "outputId": "110cae93-4a00-4126-ef0b-9b3f72b0c789"
      },
      "execution_count": null,
      "outputs": [
        {
          "output_type": "execute_result",
          "data": {
            "text/plain": [
              "array([   0,    0,    0,    0,    0,  663,   47,    7,    2,   77,   73,\n",
              "          3,  320,    3,   59,  264,   10,   73,    2,  255,  105,    6,\n",
              "         29,  558,   16,   22, 1887,   15,   68,   51,   60,   15,  550,\n",
              "          7,  255,    5,  262,   50,    4,   51,    2,   77,   57,   73,\n",
              "         15,   55,   34, 1231,   80,  185], dtype=int32)"
            ]
          },
          "metadata": {},
          "execution_count": 14
        }
      ]
    },
    {
      "cell_type": "code",
      "source": [
        "#predicting the probability using my fined tuned model ona new dataset(test set)\n",
        "amazonreviewstest =cnn_model.predict(data50TestSet)\n",
        "#try\n",
        "print(amazonreviewstest)\n"
      ],
      "metadata": {
        "colab": {
          "base_uri": "https://localhost:8080/"
        },
        "id": "qKWg3nXWnRtY",
        "outputId": "1ea4a65c-0c29-4381-fb3d-91a816d331ff"
      },
      "execution_count": null,
      "outputs": [
        {
          "output_type": "stream",
          "name": "stdout",
          "text": [
            "313/313 [==============================] - 0s 2ms/step\n",
            "[[8.5013984e-03 1.5240869e-02 9.7625774e-01]\n",
            " [1.7517211e-02 4.0316720e-02 9.4216609e-01]\n",
            " [6.9136379e-35 0.0000000e+00 1.0000000e+00]\n",
            " ...\n",
            " [2.0510554e-02 4.9945176e-02 9.2954427e-01]\n",
            " [1.4025621e-02 2.9856626e-02 9.5611775e-01]\n",
            " [1.0734198e-06 5.2398985e-07 9.9999845e-01]]\n"
          ]
        }
      ]
    },
    {
      "cell_type": "code",
      "source": [
        "\n",
        "\n",
        "import pandas as pd\n",
        "import numpy as np\n",
        "\n",
        "prediction = pd.DataFrame(amazonreviewstest, columns=['negative', 'neutral', 'positive']).to_csv('prediction.csv')\n",
        "\n",
        "\n",
        "\n",
        "\n",
        "\n"
      ],
      "metadata": {
        "colab": {
          "base_uri": "https://localhost:8080/",
          "height": 234
        },
        "id": "neSjbTSv42nr",
        "outputId": "bd3ef798-a939-4e5d-8e77-99dcc6eda34a"
      },
      "execution_count": null,
      "outputs": [
        {
          "output_type": "error",
          "ename": "TypeError",
          "evalue": "ignored",
          "traceback": [
            "\u001b[0;31m---------------------------------------------------------------------------\u001b[0m",
            "\u001b[0;31mTypeError\u001b[0m                                 Traceback (most recent call last)",
            "\u001b[0;32m<ipython-input-317-5d709cf8b0ef>\u001b[0m in \u001b[0;36m<module>\u001b[0;34m\u001b[0m\n\u001b[1;32m      4\u001b[0m \u001b[0;31m#prediction = pd.DataFrame(amazonreviewstest, columns=['negative', 'neutral', 'positive'])\u001b[0m\u001b[0;34m\u001b[0m\u001b[0;34m\u001b[0m\u001b[0;34m\u001b[0m\u001b[0m\n\u001b[1;32m      5\u001b[0m \u001b[0marray\u001b[0m\u001b[0;34m=\u001b[0m\u001b[0mamazonreviewstest\u001b[0m\u001b[0;34m\u001b[0m\u001b[0;34m\u001b[0m\u001b[0m\n\u001b[0;32m----> 6\u001b[0;31m \u001b[0marray\u001b[0m\u001b[0;34m=\u001b[0m \u001b[0mamazonreviewstest\u001b[0m\u001b[0;34m.\u001b[0m\u001b[0margmax\u001b[0m\u001b[0;34m(\u001b[0m\u001b[0marray\u001b[0m\u001b[0;34m,\u001b[0m \u001b[0maxis\u001b[0m\u001b[0;34m=\u001b[0m\u001b[0;36m0\u001b[0m\u001b[0;34m)\u001b[0m\u001b[0;34m\u001b[0m\u001b[0;34m\u001b[0m\u001b[0m\n\u001b[0m\u001b[1;32m      7\u001b[0m \u001b[0;34m\u001b[0m\u001b[0m\n\u001b[1;32m      8\u001b[0m \u001b[0;34m\u001b[0m\u001b[0m\n",
            "\u001b[0;31mTypeError\u001b[0m: argument for argmax() given by name ('axis') and position (position 0)"
          ]
        }
      ]
    },
    {
      "cell_type": "code",
      "source": [
        "Amazon_test_reviews"
      ],
      "metadata": {
        "colab": {
          "base_uri": "https://localhost:8080/",
          "height": 424
        },
        "id": "vwXr1fkTtEDp",
        "outputId": "4401d03f-6a3b-4285-8901-2d1748063429"
      },
      "execution_count": null,
      "outputs": [
        {
          "output_type": "execute_result",
          "data": {
            "text/plain": [
              "                                             reviewText  \\\n",
              "0     I am a (very amateur) EDM and Hip Hop Producer...   \n",
              "1     These are pretty beefy strings even for black ...   \n",
              "2     I've played every new \"improved\" string out th...   \n",
              "3     I thought I would give this pedal a try, becau...   \n",
              "4     Been wanting to try one for over a year.  Good...   \n",
              "...                                                 ...   \n",
              "9995  I took it off my guitar! I would rather look a...   \n",
              "9996  Better than the stock part on non-USA made gui...   \n",
              "9997  I'm updating this review after using the violi...   \n",
              "9998  A lot of sound research and engineering go int...   \n",
              "9999  This is my second stand like this. Looks reall...   \n",
              "\n",
              "                                                summary  \n",
              "0                                      Extremely Happy.  \n",
              "1     once again, Rotosound strings fail to impress ...  \n",
              "2     and keep coming home to the girls that really ...  \n",
              "3                            save up for a better pedal  \n",
              "4                                               Big Six  \n",
              "...                                                 ...  \n",
              "9995                                  Save your money!!  \n",
              "9996                                         Four Stars  \n",
              "9997                              First Violin Purchase  \n",
              "9998                      Another winner from Hardwire!  \n",
              "9999                                         Five Stars  \n",
              "\n",
              "[10000 rows x 2 columns]"
            ],
            "text/html": [
              "\n",
              "  <div id=\"df-f7f9bb11-64ef-4143-89a4-06ee7496482c\">\n",
              "    <div class=\"colab-df-container\">\n",
              "      <div>\n",
              "<style scoped>\n",
              "    .dataframe tbody tr th:only-of-type {\n",
              "        vertical-align: middle;\n",
              "    }\n",
              "\n",
              "    .dataframe tbody tr th {\n",
              "        vertical-align: top;\n",
              "    }\n",
              "\n",
              "    .dataframe thead th {\n",
              "        text-align: right;\n",
              "    }\n",
              "</style>\n",
              "<table border=\"1\" class=\"dataframe\">\n",
              "  <thead>\n",
              "    <tr style=\"text-align: right;\">\n",
              "      <th></th>\n",
              "      <th>reviewText</th>\n",
              "      <th>summary</th>\n",
              "    </tr>\n",
              "  </thead>\n",
              "  <tbody>\n",
              "    <tr>\n",
              "      <th>0</th>\n",
              "      <td>I am a (very amateur) EDM and Hip Hop Producer...</td>\n",
              "      <td>Extremely Happy.</td>\n",
              "    </tr>\n",
              "    <tr>\n",
              "      <th>1</th>\n",
              "      <td>These are pretty beefy strings even for black ...</td>\n",
              "      <td>once again, Rotosound strings fail to impress ...</td>\n",
              "    </tr>\n",
              "    <tr>\n",
              "      <th>2</th>\n",
              "      <td>I've played every new \"improved\" string out th...</td>\n",
              "      <td>and keep coming home to the girls that really ...</td>\n",
              "    </tr>\n",
              "    <tr>\n",
              "      <th>3</th>\n",
              "      <td>I thought I would give this pedal a try, becau...</td>\n",
              "      <td>save up for a better pedal</td>\n",
              "    </tr>\n",
              "    <tr>\n",
              "      <th>4</th>\n",
              "      <td>Been wanting to try one for over a year.  Good...</td>\n",
              "      <td>Big Six</td>\n",
              "    </tr>\n",
              "    <tr>\n",
              "      <th>...</th>\n",
              "      <td>...</td>\n",
              "      <td>...</td>\n",
              "    </tr>\n",
              "    <tr>\n",
              "      <th>9995</th>\n",
              "      <td>I took it off my guitar! I would rather look a...</td>\n",
              "      <td>Save your money!!</td>\n",
              "    </tr>\n",
              "    <tr>\n",
              "      <th>9996</th>\n",
              "      <td>Better than the stock part on non-USA made gui...</td>\n",
              "      <td>Four Stars</td>\n",
              "    </tr>\n",
              "    <tr>\n",
              "      <th>9997</th>\n",
              "      <td>I'm updating this review after using the violi...</td>\n",
              "      <td>First Violin Purchase</td>\n",
              "    </tr>\n",
              "    <tr>\n",
              "      <th>9998</th>\n",
              "      <td>A lot of sound research and engineering go int...</td>\n",
              "      <td>Another winner from Hardwire!</td>\n",
              "    </tr>\n",
              "    <tr>\n",
              "      <th>9999</th>\n",
              "      <td>This is my second stand like this. Looks reall...</td>\n",
              "      <td>Five Stars</td>\n",
              "    </tr>\n",
              "  </tbody>\n",
              "</table>\n",
              "<p>10000 rows × 2 columns</p>\n",
              "</div>\n",
              "      <button class=\"colab-df-convert\" onclick=\"convertToInteractive('df-f7f9bb11-64ef-4143-89a4-06ee7496482c')\"\n",
              "              title=\"Convert this dataframe to an interactive table.\"\n",
              "              style=\"display:none;\">\n",
              "        \n",
              "  <svg xmlns=\"http://www.w3.org/2000/svg\" height=\"24px\"viewBox=\"0 0 24 24\"\n",
              "       width=\"24px\">\n",
              "    <path d=\"M0 0h24v24H0V0z\" fill=\"none\"/>\n",
              "    <path d=\"M18.56 5.44l.94 2.06.94-2.06 2.06-.94-2.06-.94-.94-2.06-.94 2.06-2.06.94zm-11 1L8.5 8.5l.94-2.06 2.06-.94-2.06-.94L8.5 2.5l-.94 2.06-2.06.94zm10 10l.94 2.06.94-2.06 2.06-.94-2.06-.94-.94-2.06-.94 2.06-2.06.94z\"/><path d=\"M17.41 7.96l-1.37-1.37c-.4-.4-.92-.59-1.43-.59-.52 0-1.04.2-1.43.59L10.3 9.45l-7.72 7.72c-.78.78-.78 2.05 0 2.83L4 21.41c.39.39.9.59 1.41.59.51 0 1.02-.2 1.41-.59l7.78-7.78 2.81-2.81c.8-.78.8-2.07 0-2.86zM5.41 20L4 18.59l7.72-7.72 1.47 1.35L5.41 20z\"/>\n",
              "  </svg>\n",
              "      </button>\n",
              "      \n",
              "  <style>\n",
              "    .colab-df-container {\n",
              "      display:flex;\n",
              "      flex-wrap:wrap;\n",
              "      gap: 12px;\n",
              "    }\n",
              "\n",
              "    .colab-df-convert {\n",
              "      background-color: #E8F0FE;\n",
              "      border: none;\n",
              "      border-radius: 50%;\n",
              "      cursor: pointer;\n",
              "      display: none;\n",
              "      fill: #1967D2;\n",
              "      height: 32px;\n",
              "      padding: 0 0 0 0;\n",
              "      width: 32px;\n",
              "    }\n",
              "\n",
              "    .colab-df-convert:hover {\n",
              "      background-color: #E2EBFA;\n",
              "      box-shadow: 0px 1px 2px rgba(60, 64, 67, 0.3), 0px 1px 3px 1px rgba(60, 64, 67, 0.15);\n",
              "      fill: #174EA6;\n",
              "    }\n",
              "\n",
              "    [theme=dark] .colab-df-convert {\n",
              "      background-color: #3B4455;\n",
              "      fill: #D2E3FC;\n",
              "    }\n",
              "\n",
              "    [theme=dark] .colab-df-convert:hover {\n",
              "      background-color: #434B5C;\n",
              "      box-shadow: 0px 1px 3px 1px rgba(0, 0, 0, 0.15);\n",
              "      filter: drop-shadow(0px 1px 2px rgba(0, 0, 0, 0.3));\n",
              "      fill: #FFFFFF;\n",
              "    }\n",
              "  </style>\n",
              "\n",
              "      <script>\n",
              "        const buttonEl =\n",
              "          document.querySelector('#df-f7f9bb11-64ef-4143-89a4-06ee7496482c button.colab-df-convert');\n",
              "        buttonEl.style.display =\n",
              "          google.colab.kernel.accessAllowed ? 'block' : 'none';\n",
              "\n",
              "        async function convertToInteractive(key) {\n",
              "          const element = document.querySelector('#df-f7f9bb11-64ef-4143-89a4-06ee7496482c');\n",
              "          const dataTable =\n",
              "            await google.colab.kernel.invokeFunction('convertToInteractive',\n",
              "                                                     [key], {});\n",
              "          if (!dataTable) return;\n",
              "\n",
              "          const docLinkHtml = 'Like what you see? Visit the ' +\n",
              "            '<a target=\"_blank\" href=https://colab.research.google.com/notebooks/data_table.ipynb>data table notebook</a>'\n",
              "            + ' to learn more about interactive tables.';\n",
              "          element.innerHTML = '';\n",
              "          dataTable['output_type'] = 'display_data';\n",
              "          await google.colab.output.renderOutput(dataTable, element);\n",
              "          const docLink = document.createElement('div');\n",
              "          docLink.innerHTML = docLinkHtml;\n",
              "          element.appendChild(docLink);\n",
              "        }\n",
              "      </script>\n",
              "    </div>\n",
              "  </div>\n",
              "  "
            ]
          },
          "metadata": {},
          "execution_count": 221
        }
      ]
    },
    {
      "cell_type": "code",
      "source": [
        "file1 = open(\"amazonReviewsPredictions.txt\", \"w\")\n",
        " \n",
        "# Reading from file\n",
        "def test():\n",
        "  i = 0\n",
        "  answers = ['negative', 'neutral', 'positive']\n",
        "  with open('amazonReviewsPredictions.txt', 'r') as outfile:\n",
        "    lines = outfile.readlines()\n",
        "    for line in lines:\n",
        "        if line.strip() not in answers:\n",
        "          return(\"invalid entry line %i\" % (i))\n",
        "        i += 1\n",
        "    if i != 10000:\n",
        "      return (\"incorrect number of lines\")\n",
        "    else:\n",
        "      return (\"file looks ok\")\n",
        "print(test())\n",
        "\n",
        " \n",
        "file1.close()\n",
        "\n"
      ],
      "metadata": {
        "colab": {
          "base_uri": "https://localhost:8080/"
        },
        "id": "PUtINbtgW9Xx",
        "outputId": "8e77c38d-a417-42f0-de70-5532eef776e7"
      },
      "execution_count": null,
      "outputs": [
        {
          "output_type": "stream",
          "name": "stdout",
          "text": [
            "incorrect number of lines\n"
          ]
        }
      ]
    }
  ]
}